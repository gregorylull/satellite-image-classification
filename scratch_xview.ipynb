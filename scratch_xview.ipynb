{
 "cells": [
  {
   "cell_type": "code",
   "execution_count": 6,
   "metadata": {},
   "outputs": [],
   "source": [
    "from matplotlib import pyplot as plt\n",
    "import os\n",
    "import numpy as np\n",
    "import pandas as pd\n",
    "from tqdm import tqdm, tqdm_notebook, tnrange\n",
    "import glob\n",
    "\n",
    "from skimage.io import imread, imshow, concatenate_images\n",
    "from skimage.transform import resize\n",
    "from skimage.morphology import label\n",
    "from sklearn.model_selection import train_test_split\n",
    "from keras.preprocessing.image import ImageDataGenerator, array_to_img, img_to_array, load_img\n",
    "\n",
    "from PIL import Image, ImageDraw, ImageFile\n",
    "\n",
    "from skimage.external import tifffile\n",
    "\n",
    "\n",
    "import tensorflow as tf\n",
    "import keras\n",
    "\n",
    "from keras.models import Model, load_model\n",
    "from keras.layers import Input, BatchNormalization, Activation, Dense, Dropout\n",
    "from keras.layers.core import Lambda, RepeatVector, Reshape\n",
    "from keras.layers.convolutional import Conv2D, Conv2DTranspose\n",
    "from keras.layers.pooling import MaxPooling2D, GlobalMaxPool2D\n",
    "from keras.layers.merge import concatenate, add\n",
    "from keras.callbacks import EarlyStopping, ModelCheckpoint, ReduceLROnPlateau\n",
    "from keras.optimizers import Adam\n",
    "from keras import backend as K"
   ]
  },
  {
   "cell_type": "code",
   "execution_count": null,
   "metadata": {},
   "outputs": [],
   "source": [
    "data = 'data/xview2/xview2_tier3/'\n",
    "\n",
    "IMAGE_DIR = os.path.join(data, 'snippet_test_images')\n",
    "OUTPUT_DIR = os.path.join(data, 'snippet_test_images_dim')\n",
    "\n",
    "image_glob_paths = os.path.join(IMAGE_DIR, '*_disaster.png')\n",
    "\n",
    "split_dimension = 128\n",
    "image_dimension = 1024\n",
    "image_channels = 3\n",
    "mask_channels = 1\n",
    "RGB_bits = 2047  # RGB images\n",
    "mask_bits = 255  # grayscale\n",
    "\n",
    "# train_percentage = 1\n",
    "train_percentage = 0.1\n",
    "snippet_image_paths = glob.glob(image_glob_paths)\n",
    "\n",
    "train_index = int((len(snippet_image_paths) * train_percentage) // 1)\n",
    "\n",
    "if train_percentage != 1:\n",
    "    snippet_image_paths = snippet_image_paths[:train_index]\n",
    "\n",
    "\n",
    "print(f'Splitting {len(snippet_image_paths)} images'"
   ]
  },
  {
   "cell_type": "code",
   "execution_count": null,
   "metadata": {},
   "outputs": [],
   "source": [
    "total_ids = image_ids\n",
    "train_index = int((len(total_ids) * train_percentage) // 1)\n",
    "ids = image_ids[:train_index]\n",
    "\n",
    "X = np.zeros((len(ids), image_dimension, image_dimension, image_channels))\n",
    "y = np.zeros((len(ids), image_dimension, image_dimension, image_channels), dtype=dtype_float)\n",
    "\n",
    "print('Getting and resizing images ... ')\n",
    "\n",
    "x_min = 1000\n",
    "x_max = 0\n",
    "y_min = 1000\n",
    "y_max = 0\n",
    "\n",
    "for n, id_ in tqdm_notebook(enumerate(ids), total=len(ids)):\n",
    "    # Load images\n",
    "    image_path = os.path.join(image_dir, f'{image_prefix}{id_}.tif')\n",
    "    mask_path = os.path.join(output_dir, f'{id_}_mask.tif')\n",
    "    \n",
    "    if not (os.path.exists(image_path) and os.path.exists(mask_path)):\n",
    "        continue\n",
    "    \n",
    "    img = tifffile.imread(image_path)\n",
    "    \n",
    "    x_img = img\n",
    "    x_mask = x_img\n",
    "    x_mask_min = x_mask.min()\n",
    "    x_mask_max = x_mask.max()\n",
    "    if x_mask_max > x_max:\n",
    "        x_max = x_mask_max\n",
    "    \n",
    "    if x_mask_min < x_min:\n",
    "        x_min = x_mask_min\n",
    "                  \n",
    "#     x_img = img_to_array(img)\n",
    "#     x_img = resize(x_img, (image_dimension, image_dimension, image_channels),\n",
    "#                    mode='constant', preserve_range=True)\n",
    "\n",
    "    # Load masks\n",
    "    mask = tifffile.imread(mask_path)\n",
    "    y_mask = mask\n",
    "    \n",
    "    y_mask_min = y_mask.min()\n",
    "    y_mask_max = y_mask.max()\n",
    "    if y_mask_max > y_max:\n",
    "        y_max = y_mask_max\n",
    "    \n",
    "    if y_mask_min < y_min:\n",
    "        y_min = y_mask_min"
   ]
  },
  {
   "cell_type": "code",
   "execution_count": 2,
   "metadata": {},
   "outputs": [],
   "source": [
    "\n",
    "def dice_coef(y_true, y_pred, smooth=1):\n",
    "    intersection = K.sum(y_true * y_pred, axis=[1, 2, 3])\n",
    "    union = K.sum(y_true, axis=[1, 2, 3]) + K.sum(y_pred, axis=[1, 2, 3])\n",
    "    dice = K.mean((2. * intersection + smooth)/(union + smooth), axis=0)\n",
    "    return dice"
   ]
  },
  {
   "cell_type": "code",
   "execution_count": 8,
   "metadata": {},
   "outputs": [
    {
     "data": {
      "image/png": "[encoded data removed]",
      "text/plain": [
       "<Figure size 432x288 with 1 Axes>"
      ]
     },
     "metadata": {
      "needs_background": "light"
     },
     "output_type": "display_data"
    },
    {
     "name": "stdout",
     "output_type": "stream",
     "text": [
      "TYPE                 |Almost_right |half right |all_wrong\n",
      "jaccard_distance_loss [0.09900928 0.89108944 3.7500024 ]\n",
      "binary_crossentropy [ 0.02634021  0.57564634 12.532434  ]\n",
      "binary_crossentropy_scaled [0.00210176 0.04593252 1.        ]\n"
     ]
    }
   ],
   "source": [
    "\n",
    "def jaccard_distance_loss(y_true, y_pred, smooth=100):\n",
    "    \"\"\"\n",
    "    Jaccard = (|X & Y|)/ (|X|+ |Y| - |X & Y|)\n",
    "            = sum(|A*B|)/(sum(|A|)+sum(|B|)-sum(|A*B|))\n",
    "    \n",
    "    The jaccard distance loss is usefull for unbalanced datasets. This has been\n",
    "    shifted so it converges on 0 and is smoothed to avoid exploding or disapearing\n",
    "    gradient.\n",
    "    \n",
    "    Ref: https://en.wikipedia.org/wiki/Jaccard_index\n",
    "    \n",
    "    @url: https://gist.github.com/wassname/f1452b748efcbeb4cb9b1d059dce6f96\n",
    "    @author: wassname\n",
    "    \"\"\"\n",
    "    intersection = K.sum(K.abs(y_true * y_pred), axis=-1)\n",
    "    sum_ = K.sum(K.abs(y_true) + K.abs(y_pred), axis=-1)\n",
    "    jac = (intersection + smooth) / (sum_ - intersection + smooth)\n",
    "    return (1 - jac) * smooth\n",
    "\n",
    "\n",
    "# Test and plot\n",
    "y_pred = np.array([np.arange(-10, 10+0.1, 0.1)]).T\n",
    "y_true = np.zeros(y_pred.shape)\n",
    "name='jaccard_distance_loss'\n",
    "try:\n",
    "    loss = jaccard_distance_loss(\n",
    "        K.variable(y_true),K.variable(y_pred)\n",
    "    ).eval(session=K.get_session())\n",
    "except Exception as e:\n",
    "    print(\"error plotting\", name ,e)\n",
    "else:\n",
    "    plt.title(name)\n",
    "    plt.plot(y_pred,loss)\n",
    "    plt.show()\n",
    "    \n",
    "# Test\n",
    "# Test\n",
    "print(\"TYPE                 |Almost_right |half right |all_wrong\")\n",
    "y_true = np.array([\n",
    "    [0,0,1,0]\n",
    "    [0,0,1,0]\n",
    "    [0,0,1.,0.]\n",
    "])\n",
    "y_pred = np.array([\n",
    "    [0,0,0.9,0],\n",
    "    [0,0,0.1,0]\n",
    "    [1,1,0.1,1.]\n",
    "])\n",
    "\n",
    "r = jaccard_distance_loss(\n",
    "    K.variable(y_true),\n",
    "    K.variable(y_pred),\n",
    ").eval(session=K.get_session())\n",
    "print('jaccard_distance_loss',r)\n",
    "assert r[0]<r[1]\n",
    "assert r[1]<r[2]\n",
    "\n",
    "r = keras.losses.binary_crossentropy(\n",
    "    K.variable(y_true),\n",
    "    K.variable(y_pred),\n",
    ").eval(session=K.get_session())\n",
    "print('binary_crossentropy',r)\n",
    "print('binary_crossentropy_scaled',r/r.max())\n",
    "assert r[0]<r[1]\n",
    "assert r[1]<r[2]\n"
   ]
  },
  {
   "cell_type": "code",
   "execution_count": 16,
   "metadata": {},
   "outputs": [],
   "source": [
    "y_true = np.zeros((2, 3, 3, 2))\n",
    "y_pred = np.zeros((2, 3, 3, 2))\n",
    "\n",
    "y_true[0, ...] = np.random.randint(0, 2, 3 * 3 * 2).reshape((3, 3, 2))\n",
    "y_pred[0, ...] = np.random.randint(0, 2, 3 * 3 * 2).reshape((3, 3, 2))\n",
    "\n"
   ]
  },
  {
   "cell_type": "code",
   "execution_count": 17,
   "metadata": {},
   "outputs": [
    {
     "data": {
      "text/plain": [
       "array([[[[1., 0.],\n",
       "         [0., 0.],\n",
       "         [1., 1.]],\n",
       "\n",
       "        [[0., 0.],\n",
       "         [0., 0.],\n",
       "         [0., 1.]],\n",
       "\n",
       "        [[1., 0.],\n",
       "         [0., 0.],\n",
       "         [0., 0.]]],\n",
       "\n",
       "\n",
       "       [[[0., 0.],\n",
       "         [0., 0.],\n",
       "         [0., 0.]],\n",
       "\n",
       "        [[0., 0.],\n",
       "         [0., 0.],\n",
       "         [0., 0.]],\n",
       "\n",
       "        [[0., 0.],\n",
       "         [0., 0.],\n",
       "         [0., 0.]]]])"
      ]
     },
     "execution_count": 17,
     "metadata": {},
     "output_type": "execute_result"
    }
   ],
   "source": [
    "y_pred"
   ]
  },
  {
   "cell_type": "code",
   "execution_count": 18,
   "metadata": {},
   "outputs": [
    {
     "data": {
      "text/plain": [
       "array([[[[1., 0.],\n",
       "         [1., 0.],\n",
       "         [0., 1.]],\n",
       "\n",
       "        [[0., 0.],\n",
       "         [0., 1.],\n",
       "         [1., 0.]],\n",
       "\n",
       "        [[0., 1.],\n",
       "         [1., 0.],\n",
       "         [0., 1.]]],\n",
       "\n",
       "\n",
       "       [[[0., 0.],\n",
       "         [0., 0.],\n",
       "         [0., 0.]],\n",
       "\n",
       "        [[0., 0.],\n",
       "         [0., 0.],\n",
       "         [0., 0.]],\n",
       "\n",
       "        [[0., 0.],\n",
       "         [0., 0.],\n",
       "         [0., 0.]]]])"
      ]
     },
     "execution_count": 18,
     "metadata": {},
     "output_type": "execute_result"
    }
   ],
   "source": [
    "y_true"
   ]
  },
  {
   "cell_type": "code",
   "execution_count": 19,
   "metadata": {},
   "outputs": [
    {
     "ename": "TypeError",
     "evalue": "'list' object cannot be interpreted as an integer",
     "output_type": "error",
     "traceback": [
      "\u001b[0;31m---------------------------------------------------------------------------\u001b[0m",
      "\u001b[0;31mTypeError\u001b[0m                                 Traceback (most recent call last)",
      "\u001b[0;32m<ipython-input-19-fc5094095af7>\u001b[0m in \u001b[0;36m<module>\u001b[0;34m\u001b[0m\n\u001b[0;32m----> 1\u001b[0;31m \u001b[0mnp\u001b[0m\u001b[0;34m.\u001b[0m\u001b[0msum\u001b[0m\u001b[0;34m(\u001b[0m\u001b[0;34m[\u001b[0m\u001b[0;36m1\u001b[0m\u001b[0;34m,\u001b[0m \u001b[0;36m2\u001b[0m\u001b[0;34m]\u001b[0m\u001b[0;34m,\u001b[0m \u001b[0;34m[\u001b[0m\u001b[0;36m4\u001b[0m\u001b[0;34m,\u001b[0m \u001b[0;36m5\u001b[0m\u001b[0;34m]\u001b[0m\u001b[0;34m)\u001b[0m\u001b[0;34m\u001b[0m\u001b[0;34m\u001b[0m\u001b[0m\n\u001b[0m",
      "\u001b[0;32m<__array_function__ internals>\u001b[0m in \u001b[0;36msum\u001b[0;34m(*args, **kwargs)\u001b[0m\n",
      "\u001b[0;32m~/anaconda3/envs/metis/lib/python3.7/site-packages/numpy/core/fromnumeric.py\u001b[0m in \u001b[0;36msum\u001b[0;34m(a, axis, dtype, out, keepdims, initial, where)\u001b[0m\n\u001b[1;32m   2180\u001b[0m \u001b[0;34m\u001b[0m\u001b[0m\n\u001b[1;32m   2181\u001b[0m     return _wrapreduction(a, np.add, 'sum', axis, dtype, out, keepdims=keepdims,\n\u001b[0;32m-> 2182\u001b[0;31m                           initial=initial, where=where)\n\u001b[0m\u001b[1;32m   2183\u001b[0m \u001b[0;34m\u001b[0m\u001b[0m\n\u001b[1;32m   2184\u001b[0m \u001b[0;34m\u001b[0m\u001b[0m\n",
      "\u001b[0;32m~/anaconda3/envs/metis/lib/python3.7/site-packages/numpy/core/fromnumeric.py\u001b[0m in \u001b[0;36m_wrapreduction\u001b[0;34m(obj, ufunc, method, axis, dtype, out, **kwargs)\u001b[0m\n\u001b[1;32m     88\u001b[0m                 \u001b[0;32mreturn\u001b[0m \u001b[0mreduction\u001b[0m\u001b[0;34m(\u001b[0m\u001b[0maxis\u001b[0m\u001b[0;34m=\u001b[0m\u001b[0maxis\u001b[0m\u001b[0;34m,\u001b[0m \u001b[0mout\u001b[0m\u001b[0;34m=\u001b[0m\u001b[0mout\u001b[0m\u001b[0;34m,\u001b[0m \u001b[0;34m**\u001b[0m\u001b[0mpasskwargs\u001b[0m\u001b[0;34m)\u001b[0m\u001b[0;34m\u001b[0m\u001b[0;34m\u001b[0m\u001b[0m\n\u001b[1;32m     89\u001b[0m \u001b[0;34m\u001b[0m\u001b[0m\n\u001b[0;32m---> 90\u001b[0;31m     \u001b[0;32mreturn\u001b[0m \u001b[0mufunc\u001b[0m\u001b[0;34m.\u001b[0m\u001b[0mreduce\u001b[0m\u001b[0;34m(\u001b[0m\u001b[0mobj\u001b[0m\u001b[0;34m,\u001b[0m \u001b[0maxis\u001b[0m\u001b[0;34m,\u001b[0m \u001b[0mdtype\u001b[0m\u001b[0;34m,\u001b[0m \u001b[0mout\u001b[0m\u001b[0;34m,\u001b[0m \u001b[0;34m**\u001b[0m\u001b[0mpasskwargs\u001b[0m\u001b[0;34m)\u001b[0m\u001b[0;34m\u001b[0m\u001b[0;34m\u001b[0m\u001b[0m\n\u001b[0m\u001b[1;32m     91\u001b[0m \u001b[0;34m\u001b[0m\u001b[0m\n\u001b[1;32m     92\u001b[0m \u001b[0;34m\u001b[0m\u001b[0m\n",
      "\u001b[0;31mTypeError\u001b[0m: 'list' object cannot be interpreted as an integer"
     ]
    }
   ],
   "source": [
    "np.sum()"
   ]
  }
 ],
 "metadata": {
  "kernelspec": {
   "display_name": "Python [conda env:metis] *",
   "language": "python",
   "name": "conda-env-metis-py"
  },
  "language_info": {
   "codemirror_mode": {
    "name": "ipython",
    "version": 3
   },
   "file_extension": ".py",
   "mimetype": "text/x-python",
   "name": "python",
   "nbconvert_exporter": "python",
   "pygments_lexer": "ipython3",
   "version": "3.7.4"
  }
 },
 "nbformat": 4,
 "nbformat_minor": 2
}
