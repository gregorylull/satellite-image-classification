{
 "cells": [
  {
   "cell_type": "code",
   "execution_count": 16,
   "metadata": {
    "ExecuteTime": {
     "end_time": "2019-12-03T23:02:19.825444Z",
     "start_time": "2019-12-03T23:02:19.809023Z"
    }
   },
   "outputs": [],
   "source": [
    "import pandas as pd\n",
    "import numpy as np\n",
    "import pickle\n",
    "import os\n",
    "import glob\n",
    "from tqdm import tqdm\n"
   ]
  },
  {
   "cell_type": "code",
   "execution_count": 3,
   "metadata": {
    "ExecuteTime": {
     "end_time": "2019-12-03T22:56:06.711317Z",
     "start_time": "2019-12-03T22:56:06.706590Z"
    }
   },
   "outputs": [],
   "source": [
    "# constants\n",
    "data_dir = 'data/spacenet/'\n",
    "AOI = 'AOI_2_Vegas_Train/'\n",
    "\n",
    "\n",
    "image_prefix = 'RGB-PanSharpen_' # RGB-PanSharpen_AOI_2_Vegas_img1.tif\n",
    "geojson_prefix = 'buildings_' # buildings_AOI_2_Vegas_img1.geojson\n",
    "\n",
    "# image_dir = os.path.join(data_dir, AOI, 'RGB-PanSharpen')\n",
    "image_dir = os.path.join(data_dir, AOI, 'test_RGB-PanSharpen')\n",
    "geojson_dir = os.path.join(data_dir, AOI, 'geojson', 'buildings')\n",
    "output_dir = os.path.join(data_dir, AOI, 'RGB-PanSharpen_masks')\n",
    "\n"
   ]
  },
  {
   "cell_type": "code",
   "execution_count": 28,
   "metadata": {
    "ExecuteTime": {
     "end_time": "2019-12-03T23:04:46.605518Z",
     "start_time": "2019-12-03T23:04:46.601355Z"
    }
   },
   "outputs": [
    {
     "data": {
      "text/plain": [
       "'data/spacenet/AOI_2_Vegas_Train/summaryData/AOI_2_Vegas_Train_Building_Solutions.csv'"
      ]
     },
     "execution_count": 28,
     "metadata": {},
     "output_type": "execute_result"
    }
   ],
   "source": [
    "summary_csv = os.path.join(data_dir, AOI, 'summaryData', 'AOI_2_Vegas_Train_Building_Solutions.csv')\n",
    "summary_csv\n"
   ]
  },
  {
   "cell_type": "code",
   "execution_count": 29,
   "metadata": {
    "ExecuteTime": {
     "end_time": "2019-12-03T23:04:47.508749Z",
     "start_time": "2019-12-03T23:04:46.800096Z"
    }
   },
   "outputs": [],
   "source": [
    "summary_csv = os.path.join(data_dir, AOI, 'summaryData', 'AOI_2_Vegas_Train_Building_Solutions.csv')\n",
    "# summary_csv = 'data/spacenet/AOI_2_Vegas_Train/summaryData/AOI_2_Vegas_Train_Building_Solutions.csv'\n",
    "df = pd.read_csv(summary_csv)"
   ]
  },
  {
   "cell_type": "code",
   "execution_count": 30,
   "metadata": {
    "ExecuteTime": {
     "end_time": "2019-12-03T23:04:48.159009Z",
     "start_time": "2019-12-03T23:04:48.152073Z"
    }
   },
   "outputs": [
    {
     "data": {
      "text/html": [
       "<div>\n",
       "<style scoped>\n",
       "    .dataframe tbody tr th:only-of-type {\n",
       "        vertical-align: middle;\n",
       "    }\n",
       "\n",
       "    .dataframe tbody tr th {\n",
       "        vertical-align: top;\n",
       "    }\n",
       "\n",
       "    .dataframe thead th {\n",
       "        text-align: right;\n",
       "    }\n",
       "</style>\n",
       "<table border=\"1\" class=\"dataframe\">\n",
       "  <thead>\n",
       "    <tr style=\"text-align: right;\">\n",
       "      <th></th>\n",
       "      <th>ImageId</th>\n",
       "      <th>BuildingId</th>\n",
       "      <th>PolygonWKT_Pix</th>\n",
       "      <th>PolygonWKT_Geo</th>\n",
       "    </tr>\n",
       "  </thead>\n",
       "  <tbody>\n",
       "    <tr>\n",
       "      <td>0</td>\n",
       "      <td>AOI_2_Vegas_img1209</td>\n",
       "      <td>1</td>\n",
       "      <td>POLYGON ((68.71 623.1 0,35.71 618.15 0,33.59 6...</td>\n",
       "      <td>POLYGON ((-115.27398708 36.20208033800003 0,-1...</td>\n",
       "    </tr>\n",
       "    <tr>\n",
       "      <td>1</td>\n",
       "      <td>AOI_2_Vegas_img1209</td>\n",
       "      <td>2</td>\n",
       "      <td>POLYGON ((221.33 645.02 0,185.7 640.33 0,184.4...</td>\n",
       "      <td>POLYGON ((-115.273575016999985 36.202021143000...</td>\n",
       "    </tr>\n",
       "  </tbody>\n",
       "</table>\n",
       "</div>"
      ],
      "text/plain": [
       "               ImageId  BuildingId  \\\n",
       "0  AOI_2_Vegas_img1209           1   \n",
       "1  AOI_2_Vegas_img1209           2   \n",
       "\n",
       "                                      PolygonWKT_Pix  \\\n",
       "0  POLYGON ((68.71 623.1 0,35.71 618.15 0,33.59 6...   \n",
       "1  POLYGON ((221.33 645.02 0,185.7 640.33 0,184.4...   \n",
       "\n",
       "                                      PolygonWKT_Geo  \n",
       "0  POLYGON ((-115.27398708 36.20208033800003 0,-1...  \n",
       "1  POLYGON ((-115.273575016999985 36.202021143000...  "
      ]
     },
     "execution_count": 30,
     "metadata": {},
     "output_type": "execute_result"
    }
   ],
   "source": [
    "df.head(2)"
   ]
  },
  {
   "cell_type": "code",
   "execution_count": 14,
   "metadata": {
    "ExecuteTime": {
     "end_time": "2019-12-03T22:59:43.572714Z",
     "start_time": "2019-12-03T22:59:43.561782Z"
    }
   },
   "outputs": [],
   "source": [
    "image_ids = df['ImageId'].unique()"
   ]
  },
  {
   "cell_type": "code",
   "execution_count": 32,
   "metadata": {
    "ExecuteTime": {
     "end_time": "2019-12-03T23:13:17.801902Z",
     "start_time": "2019-12-03T23:13:17.755177Z"
    }
   },
   "outputs": [
    {
     "ename": "AttributeError",
     "evalue": "'list' object has no attribute 'shape'",
     "output_type": "error",
     "traceback": [
      "\u001b[0;31m---------------------------------------------------------------------------\u001b[0m",
      "\u001b[0;31mAttributeError\u001b[0m                            Traceback (most recent call last)",
      "\u001b[0;32m<ipython-input-32-414e975361cb>\u001b[0m in \u001b[0;36m<module>\u001b[0;34m\u001b[0m\n\u001b[0;32m----> 1\u001b[0;31m \u001b[0msorted\u001b[0m\u001b[0;34m(\u001b[0m\u001b[0mimage_ids\u001b[0m\u001b[0;34m)\u001b[0m\u001b[0;34m.\u001b[0m\u001b[0mshape\u001b[0m\u001b[0;34m\u001b[0m\u001b[0;34m\u001b[0m\u001b[0m\n\u001b[0m",
      "\u001b[0;31mAttributeError\u001b[0m: 'list' object has no attribute 'shape'"
     ]
    }
   ],
   "source": [
    "sorted(image_ids).shape"
   ]
  },
  {
   "cell_type": "code",
   "execution_count": 17,
   "metadata": {
    "ExecuteTime": {
     "end_time": "2019-12-03T23:02:21.263499Z",
     "start_time": "2019-12-03T23:02:21.243759Z"
    }
   },
   "outputs": [
    {
     "name": "stderr",
     "output_type": "stream",
     "text": [
      "0it [00:00, ?it/s]"
     ]
    },
    {
     "name": "stdout",
     "output_type": "stream",
     "text": [
      "AOI_2_Vegas_img1209\n",
      "AOI_2_Vegas_img5289\n",
      "AOI_2_Vegas_img2917\n",
      "AOI_2_Vegas_img2241\n",
      "AOI_2_Vegas_img3543\n",
      "AOI_2_Vegas_img4703\n",
      "AOI_2_Vegas_img1257\n",
      "AOI_2_Vegas_img1898\n",
      "AOI_2_Vegas_img1233\n",
      "AOI_2_Vegas_img327\n",
      "AOI_2_Vegas_img2954\n",
      "AOI_2_Vegas_img3044\n",
      "AOI_2_Vegas_img3325\n",
      "AOI_2_Vegas_img4742\n",
      "AOI_2_Vegas_img2990\n",
      "AOI_2_Vegas_img149\n",
      "AOI_2_Vegas_img2264\n",
      "AOI_2_Vegas_img127\n",
      "AOI_2_Vegas_img5860\n",
      "AOI_2_Vegas_img1893\n",
      "AOI_2_Vegas_img2245\n"
     ]
    },
    {
     "name": "stderr",
     "output_type": "stream",
     "text": [
      "\n"
     ]
    }
   ],
   "source": [
    "for index, image_id in tqdm(enumerate(image_ids)) :\n",
    "    if index > 10:\n",
    "        break\n",
    "    print(image_id)"
   ]
  },
  {
   "cell_type": "code",
   "execution_count": null,
   "metadata": {},
   "outputs": [],
   "source": []
  }
 ],
 "metadata": {
  "hide_input": false,
  "kernelspec": {
   "display_name": "Python [conda env:metis] *",
   "language": "python",
   "name": "conda-env-metis-py"
  },
  "language_info": {
   "codemirror_mode": {
    "name": "ipython",
    "version": 3
   },
   "file_extension": ".py",
   "mimetype": "text/x-python",
   "name": "python",
   "nbconvert_exporter": "python",
   "pygments_lexer": "ipython3",
   "version": "3.7.3"
  },
  "toc": {
   "base_numbering": 1,
   "nav_menu": {},
   "number_sections": true,
   "sideBar": true,
   "skip_h1_title": false,
   "title_cell": "Table of Contents",
   "title_sidebar": "Contents",
   "toc_cell": false,
   "toc_position": {},
   "toc_section_display": true,
   "toc_window_display": false
  },
  "varInspector": {
   "cols": {
    "lenName": 16,
    "lenType": 16,
    "lenVar": 40
   },
   "kernels_config": {
    "python": {
     "delete_cmd_postfix": "",
     "delete_cmd_prefix": "del ",
     "library": "var_list.py",
     "varRefreshCmd": "print(var_dic_list())"
    },
    "r": {
     "delete_cmd_postfix": ") ",
     "delete_cmd_prefix": "rm(",
     "library": "var_list.r",
     "varRefreshCmd": "cat(var_dic_list()) "
    }
   },
   "types_to_exclude": [
    "module",
    "function",
    "builtin_function_or_method",
    "instance",
    "_Feature"
   ],
   "window_display": false
  }
 },
 "nbformat": 4,
 "nbformat_minor": 2
}
